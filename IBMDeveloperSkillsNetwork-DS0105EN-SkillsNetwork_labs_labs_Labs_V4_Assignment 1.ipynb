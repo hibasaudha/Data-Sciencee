{
  "metadata": {
    "language_info": {
      "file_extension": ".py",
      "mimetype": "text/x-python",
      "name": "python",
      "version": "3.10.2"
    },
    "kernelspec": {
      "name": "xeus-python",
      "display_name": "Python (XPython)",
      "language": "python"
    }
  },
  "nbformat_minor": 4,
  "nbformat": 4,
  "cells": [
    {
      "cell_type": "code",
      "source": "#Data Science NoteBook",
      "metadata": {},
      "execution_count": null,
      "outputs": []
    },
    {
      "cell_type": "code",
      "source": "#Introduction\n#This is a notebook created to do the assignment of Chapter 2 of Data Science Course\n",
      "metadata": {},
      "execution_count": null,
      "outputs": []
    },
    {
      "cell_type": "code",
      "source": "#Data Science Languages\nPython,R,Julia,SQL,Java",
      "metadata": {},
      "execution_count": null,
      "outputs": []
    },
    {
      "cell_type": "code",
      "source": "#Data Science Libraries\nNumPy,Pandas,Matplotlib,Seaborn,Scikit-learn,TensorFlow,Pytorch,StatsModels",
      "metadata": {},
      "execution_count": null,
      "outputs": []
    },
    {
      "cell_type": "code",
      "source": "## Data Science Tools\n\n| Tool           | Description                       |\n|----------------|-----------------------------------|\n| Jupyter Notebook | Interactive computing environment |\n| RStudio        | Integrated development for R      |\n| SQL Server     | Relational database management    |\n| Tableau        | Data visualization                |\n| Git            | Version control system            |\n| D3.js          | Data-driven documents             |",
      "metadata": {},
      "execution_count": null,
      "outputs": []
    },
    {
      "cell_type": "code",
      "source": "## Arithmetic Expression Examples\n\n\n#In this section, we'll explore some basic arithmetic expressions and examples to demonstrate mathematical operations in data science.\n",
      "metadata": {},
      "execution_count": null,
      "outputs": []
    },
    {
      "cell_type": "code",
      "source": "Product = 2*3\nSum = 5 + 3",
      "metadata": {},
      "execution_count": null,
      "outputs": []
    },
    {
      "cell_type": "code",
      "source": "minutes = 120\nhours = minutes / 60\nhours",
      "metadata": {},
      "execution_count": null,
      "outputs": []
    },
    {
      "cell_type": "code",
      "source": "## Objectives\n\nIn this notebook, we aim to:\n1. Explore common data science languages and libraries.\n2. Understand the use of various data science tools.\n3. Practice basic arithmetic expressions for data manipulation.\n",
      "metadata": {},
      "execution_count": null,
      "outputs": []
    },
    {
      "cell_type": "code",
      "source": "Author : Hiba Saudha",
      "metadata": {},
      "execution_count": null,
      "outputs": []
    }
  ]
}